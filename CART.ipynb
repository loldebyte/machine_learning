{
 "cells": [
  {
   "cell_type": "markdown",
   "metadata": {},
   "source": [
    "# Les modèles d'Arbre de Décision\n",
    "---"
   ]
  },
  {
   "cell_type": "markdown",
   "metadata": {},
   "source": [
    "Les arbres de décision sont des algorithmes de machine learning pouvant être utilisés pour : \n",
    "- **Un problème de régression** où variable à prédire est quantitative (pour prédire par exemple le prix d'une maison)\n",
    "- **Un problème de classification** où la variable à prédire est qualitative (prédire le spam par e-mail),"
   ]
  },
  {
   "cell_type": "markdown",
   "metadata": {},
   "source": [
    "## 1 – Arbre de Decision : Classifieur"
   ]
  },
  {
   "cell_type": "markdown",
   "metadata": {},
   "source": [
    "Le modèle d'arbre classifieur est un arbre binaire où les prédictions sont faites en parcourant l'arbre de **la racine** à **la feuille**.\n",
    "\n",
    "Lors du parcours de chaque noeud :\n",
    "\n",
    "- si une **caractéristique est inférieure à un seuil**, nous allons à gauche, à droite sinon.\n",
    "- chaque **feuille est associée à une classe**, qui est la prédiction du modèle."
   ]
  },
  {
   "cell_type": "markdown",
   "metadata": {},
   "source": [
    "> On utilisera le jeu de données *iris* pour implémenter le classifieur"
   ]
  },
  {
   "cell_type": "code",
   "execution_count": 1,
   "metadata": {},
   "outputs": [],
   "source": [
    "import numpy as np\n",
    "import matplotlib.pyplot as plt\n",
    "import pandas as pd\n",
    "from sklearn.datasets import load_iris"
   ]
  },
  {
   "cell_type": "code",
   "execution_count": 2,
   "metadata": {},
   "outputs": [],
   "source": [
    "iris = load_iris()\n",
    "\n",
    "X = iris.data\n",
    "y = iris.target"
   ]
  },
  {
   "cell_type": "code",
   "execution_count": 37,
   "metadata": {},
   "outputs": [],
   "source": [
    "X = pd.DataFrame(X, columns=iris.feature_names)\n",
    "y = pd.Series(y, name=\"y\")"
   ]
  },
  {
   "cell_type": "markdown",
   "metadata": {},
   "source": [
    "### 1.1 Métrique de split "
   ]
  },
  {
   "cell_type": "markdown",
   "metadata": {},
   "source": [
    "#### A. L'indice de GINI"
   ]
  },
  {
   "cell_type": "markdown",
   "metadata": {},
   "source": [
    "Les arbres de décision utilisent le concept **d'impureté de Gini** pour décrire à quel point un noeud est *homogène* ou *pur*. \n",
    "\n",
    "Un noeud est dit pur $(G = 0)$ si toutes ses observations appartiennent à la même classe, tandis qu'un noeud avec de nombreuses observations de classes différentes aura un Gini proche de 1.\n",
    "\n",
    "On défini **l'impureté Gini** de $n$ échantillons répartis en $k$ classes par :"
   ]
  },
  {
   "cell_type": "markdown",
   "metadata": {},
   "source": [
    "$$\\text{G} = 1 - \\sum_{k=1}^{n}{\\left(\\frac{s_{k}}{s} \\right)^2}$$"
   ]
  },
  {
   "cell_type": "markdown",
   "metadata": {},
   "source": [
    "où : \n",
    "- $s$ correspond à l'échantillon total\n",
    "- $s_k$ correspond à l'échantillon appartenant à la classe $k$"
   ]
  },
  {
   "cell_type": "markdown",
   "metadata": {},
   "source": [
    ">On peut par exemple calculer l'indice de Gini sur des données du Dataset iris"
   ]
  },
  {
   "cell_type": "code",
   "execution_count": 40,
   "metadata": {},
   "outputs": [],
   "source": [
    "def _gini(y):\n",
    "    m = y.size\n",
    "    return 1.0 - sum((np.sum(y == c) / m) ** 2 \n",
    "                     for c in np.unique(y))"
   ]
  },
  {
   "cell_type": "code",
   "execution_count": 5,
   "metadata": {},
   "outputs": [
    {
     "data": {
      "text/plain": [
       "0.6666666666666667"
      ]
     },
     "execution_count": 5,
     "metadata": {},
     "output_type": "execute_result"
    }
   ],
   "source": [
    "_gini(y)"
   ]
  },
  {
   "cell_type": "markdown",
   "metadata": {},
   "source": [
    "#### B. l'Entropie de Shanon"
   ]
  },
  {
   "cell_type": "markdown",
   "metadata": {},
   "source": [
    "**l'Entropie** est une métrique qui mesure le désordre dans un systeme."
   ]
  },
  {
   "cell_type": "markdown",
   "metadata": {},
   "source": [
    "...\n",
    "\n",
    "\n",
    "..."
   ]
  },
  {
   "cell_type": "markdown",
   "metadata": {},
   "source": [
    "### 1.2. L'algorithme CART"
   ]
  },
  {
   "cell_type": "markdown",
   "metadata": {},
   "source": [
    "L'algorithme utilisé dans un arbre de décision de type classifieur est appelée CART (abréviation de *Classification And Régression Trees*). Chaque noeud est construit de manière à minimiser l'impureré de Gini de chaque enfant."
   ]
  },
  {
   "cell_type": "markdown",
   "metadata": {},
   "source": [
    "La récursivité s'arrête lorsque la profondeur maximale est atteinte, c'est à dire quand plus aucune séparation n'est possible de manière plus pur que le noeud parent. \n",
    "\n",
    "*NB : Il est possible de contrôler le critère d'arrêt qui est crucial en pratique car il permet d'éviter le surapprentissage.*"
   ]
  },
  {
   "cell_type": "markdown",
   "metadata": {},
   "source": [
    "### 1.3. Trouver la variable et le seuil optimal"
   ]
  },
  {
   "cell_type": "markdown",
   "metadata": {},
   "source": [
    "L'objectif de l'algorithme CART est de trouver la variable et le seuil optimal pour que l'impureté de Gini soit minimisée. Il s'agit donc de la *racine* dans le cas du premier noeud de l'arbre.\n",
    "\n",
    "Pour ce faire : **il faut calculer cet indice pour toutes les divisions possibles**. \n",
    "\n",
    "- Pour le cas d'une variable expliquée **binaire** le nombre il faut juster calculer l'indice dans le cas de chaque modalité.\n",
    "\n",
    "- Pour une valeur **continue**, il faut au préalable trier les valeurs et utiliser comme seuil tous les points médians entre deux valeurs adjacentes."
   ]
  },
  {
   "cell_type": "markdown",
   "metadata": {},
   "source": [
    "> **Pour trouver tous les ponts médian** : On considère une variable du jeu de données et on récupère toutes les valeurs possibles"
   ]
  },
  {
   "cell_type": "code",
   "execution_count": 6,
   "metadata": {},
   "outputs": [
    {
     "data": {
      "text/plain": [
       "array([1.4, 1.3, 1.5, 1.7, 1.6])"
      ]
     },
     "execution_count": 6,
     "metadata": {},
     "output_type": "execute_result"
    }
   ],
   "source": [
    "t = X[\"petal length (cm)\"].unique()\n",
    "t[:5]"
   ]
  },
  {
   "cell_type": "code",
   "execution_count": 7,
   "metadata": {},
   "outputs": [],
   "source": [
    "def __make_threshold(liste):\n",
    "    liste_sorted = sorted(liste)\n",
    "    return np.array([np.mean((liste_sorted[i], liste_sorted[i+1])) \n",
    "            for i in range(len(liste_sorted))[:-1]])"
   ]
  },
  {
   "cell_type": "markdown",
   "metadata": {},
   "source": [
    "> On applique la moyenne pour chaque observation deux à deux (sans oublier de retirer la dernière valeur)"
   ]
  },
  {
   "cell_type": "code",
   "execution_count": 8,
   "metadata": {},
   "outputs": [
    {
     "data": {
      "text/plain": [
       "array([1.05, 1.15, 1.25, 1.35, 1.45])"
      ]
     },
     "execution_count": 8,
     "metadata": {},
     "output_type": "execute_result"
    }
   ],
   "source": [
    "__make_threshold(t)[:5]"
   ]
  },
  {
   "cell_type": "code",
   "execution_count": 73,
   "metadata": {},
   "outputs": [
    {
     "ename": "SyntaxError",
     "evalue": "invalid syntax (<ipython-input-73-6bc5dd4dbacb>, line 17)",
     "output_type": "error",
     "traceback": [
      "\u001b[0;36m  File \u001b[0;32m\"<ipython-input-73-6bc5dd4dbacb>\"\u001b[0;36m, line \u001b[0;32m17\u001b[0m\n\u001b[0;31m    self.all_classes =\u001b[0m\n\u001b[0m                       ^\u001b[0m\n\u001b[0;31mSyntaxError\u001b[0m\u001b[0;31m:\u001b[0m invalid syntax\n"
     ]
    }
   ],
   "source": [
    "class DecisionTreeClassif():\n",
    "    def __init__(self, max_depth=None, target_name=None):\n",
    "        self.max_depth = max_depth\n",
    "        self.target_name = target_name\n",
    "    \n",
    "    def _gini(self, y):\n",
    "        m = y.size\n",
    "        return 1.0 - sum((np.sum(y == c) / m) ** 2 \n",
    "                         for c in np.unique(y))\n",
    "    \n",
    "    def __make_threshold(self, liste):\n",
    "        liste_sorted = sorted(liste)\n",
    "        return np.array([np.mean((liste_sorted[i], liste_sorted[i+1])) \n",
    "                for i in range(len(liste_sorted))[:-1]])\n",
    "\n",
    "    def fit(self,X,y):\n",
    "        self.all_classes = \n",
    "        self.tree = self._best_gini(X,y, target_name=self.target_name)\n",
    "        return self.tree\n",
    "        \n",
    "    def _best_gini(self, X,y, target_name):\n",
    "        \"\"\"\n",
    "        Permet de trouver le meilleur split à partir de l'indice de Gini pondéré\n",
    "        \"\"\"\n",
    "\n",
    "        # Calcule la pureté du noeud (l'indice de GINI parent) et \n",
    "        # retourne la classe majoritaire\n",
    "        gini_node = self._gini(y)\n",
    "        classe_maj = y.mode()[0]\n",
    "\n",
    "        if target_name is not None:\n",
    "            classe_maj = target_name[classe_maj]\n",
    "\n",
    "        all_split = []\n",
    "\n",
    "        # Cherche pour chaque variable le meilleur split \n",
    "\n",
    "        for var in X.columns:\n",
    "\n",
    "            # Calcule les valeurs intermédiaires de toutes les valeurs possibles de la variable\n",
    "            # Pour éviter la division par 0 si un split ne contient aucune valeur.\n",
    "\n",
    "            res = []\n",
    "            all_treshold = self. __make_threshold(np.unique(X[var]))\n",
    "\n",
    "            for threshold in all_treshold:\n",
    "\n",
    "                # Récupère les données pour le split selon le threshold\n",
    "                classe = X[var] < threshold\n",
    "\n",
    "                # Effectifs pour chaque classe et le total\n",
    "                m = len(y)\n",
    "                number_left = sum(classe)\n",
    "                number_right = sum(~classe)\n",
    "\n",
    "                # Indice de gini pour la branche de gauche et de droite\n",
    "                gini_left = 1.0 - sum((sum(classe[y == i]) / number_left) ** 2 \n",
    "                                      for i in self.all_classes)\n",
    "                gini_right = 1.0 - sum((sum(~classe[y == i]) / number_right) ** 2 \n",
    "                                       for i in self.all_classes)\n",
    "\n",
    "                # Répartition de l'échantillon pour le split\n",
    "                sample_left = {target_name[i] : np.sum(classe[y == i]) for i in self.all_classes}\n",
    "                sample_right = {target_name[i] : np.sum(~classe[y == i]) for i in self.all_classes}\n",
    "\n",
    "                # Gini pondéré entre les deux splits\n",
    "                gini_pondere = (number_left * gini_left + number_right * gini_right) / m\n",
    "\n",
    "                # Ajoute l'ensemble des résultats dans une liste\n",
    "                res.append((gini_pondere, threshold, sample_left, sample_right))\n",
    "\n",
    "            # Créer un DataFrame de l'ensemble des résultats pour chaque split\n",
    "            best_gini = pd.DataFrame(res, columns=[\"gini\",\"value\",'sample_left', 'sample_right'])\n",
    "\n",
    "            # Selectionne la ligne de l'indice de gini pondéré le plus faible et son seuil\n",
    "            argmin = best_gini.gini.idxmin()\n",
    "            threshold = best_gini.loc[argmin].value\n",
    "\n",
    "            # Ajoute le meilleur split (indice de gini pondéré) pour chaque variable\n",
    "            all_split.append((best_gini.gini.min(), threshold, var, \n",
    "                              best_gini.sample_left[argmin], best_gini.sample_right[argmin],\n",
    "                            gini_node, classe_maj))\n",
    "\n",
    "        # Transforme sous forme de DataFrame et trie par ordre ascendant\n",
    "        select_split = pd.DataFrame(all_split, columns=[\"Gini pondéré\", \"threshold (<=) \", \n",
    "                                    'feature', 'sample_left', \n",
    "                                    \"sample_right\", 'gini_node',\"classe\"]\n",
    "                                   ).sort_values(by=[\"Gini pondéré\"], ascending=True).reset_index(drop=True)\n",
    "        return select_split.loc[0]"
   ]
  },
  {
   "cell_type": "code",
   "execution_count": 72,
   "metadata": {},
   "outputs": [],
   "source": [
    "def tree_growth():\n",
    "    pass"
   ]
  },
  {
   "cell_type": "code",
   "execution_count": 70,
   "metadata": {
    "scrolled": true
   },
   "outputs": [
    {
     "data": {
      "text/plain": [
       "Gini pondéré                                              0.110306\n",
       "threshold (<=)                                                1.75\n",
       "feature                                           petal width (cm)\n",
       "sample_left        {'setosa': 0, 'versicolor': 49, 'virginica': 5}\n",
       "sample_right       {'setosa': 0, 'versicolor': 1, 'virginica': 45}\n",
       "gini_node                                                      0.5\n",
       "classe                                                  versicolor\n",
       "Name: 0, dtype: object"
      ]
     },
     "execution_count": 70,
     "metadata": {},
     "output_type": "execute_result"
    }
   ],
   "source": [
    "DecisionTreeClassif(target_name=iris.target_names).fit(X[50:],y[50:])"
   ]
  },
  {
   "cell_type": "code",
   "execution_count": 616,
   "metadata": {},
   "outputs": [
    {
     "data": {
      "image/png": "[encoded data removed]",
      "text/plain": [
       "<Figure size 720x360 with 1 Axes>"
      ]
     },
     "metadata": {
      "needs_background": "light"
     },
     "output_type": "display_data"
    }
   ],
   "source": [
    "plt.figure(figsize=(10,5))\n",
    "plt.plot([i[0] for i in res], )\n",
    "plt.xticks(ticks=range(len(res)),labels=[i[1] for i in res], rotation='vertical')\n",
    "plt.xlabel(iris.feature_names[2])\n",
    "plt.ylabel('GINI');\n",
    "plt.annotate()"
   ]
  },
  {
   "cell_type": "markdown",
   "metadata": {},
   "source": [
    "# Avec sklearn"
   ]
  },
  {
   "cell_type": "code",
   "execution_count": 863,
   "metadata": {},
   "outputs": [],
   "source": [
    "from sklearn.tree import DecisionTreeClassifier\n",
    "from sklearn.model_selection import train_test_split\n",
    "from sklearn.tree import plot_tree"
   ]
  },
  {
   "cell_type": "code",
   "execution_count": 864,
   "metadata": {},
   "outputs": [
    {
     "data": {
      "text/plain": [
       "0.96"
      ]
     },
     "execution_count": 864,
     "metadata": {},
     "output_type": "execute_result"
    }
   ],
   "source": [
    "clf = DecisionTreeClassifier(max_depth=2)\n",
    "\n",
    "X_train, X_test, y_train, y_test = train_test_split(\n",
    "    X, y, test_size=0.2, random_state=0)\n",
    "\n",
    "clf.fit(X,y)\n",
    "clf.score(X,y)"
   ]
  },
  {
   "cell_type": "markdown",
   "metadata": {},
   "source": [
    "En haut de l'arbre on trouve la racine : "
   ]
  },
  {
   "cell_type": "code",
   "execution_count": 865,
   "metadata": {},
   "outputs": [
    {
     "data": {
      "image/png": "[encoded data removed]",
      "text/plain": [
       "<Figure size 576x576 with 1 Axes>"
      ]
     },
     "metadata": {
      "needs_background": "light"
     },
     "output_type": "display_data"
    }
   ],
   "source": [
    "plt.figure(figsize=(8,8))\n",
    "plot_tree(clf, feature_names=iris.feature_names, \n",
    "          class_names=iris.target_names,\n",
    "         filled=True);"
   ]
  },
  {
   "cell_type": "markdown",
   "metadata": {},
   "source": [
    "- On peut lire le nom de la variable discrimante et sa valeur (pour notre cas, il s'agit de la longueur de la pétale qui est supérieur à 2,35 cm). \n",
    "\n",
    "- On peut lire le coefficient de GINI\n",
    "\n",
    "- Sample fait référence à la taille de l'échantillon\n",
    "- Value fait référence à la taille de l'échantilllon pour chacune des classes.\n",
    "\n",
    "- Class : fait référence à la classe majoritaire lors de cette embranchement."
   ]
  },
  {
   "cell_type": "markdown",
   "metadata": {},
   "source": [
    "## Référence "
   ]
  },
  {
   "cell_type": "markdown",
   "metadata": {},
   "source": [
    "[TowardsDataScience, Decision Tree from scratch in python](https://towardsdatascience.com/decision-tree-from-scratch-in-python-46e99dfea775)"
   ]
  }
 ],
 "metadata": {
  "kernelspec": {
   "display_name": "Python 3",
   "language": "python",
   "name": "python3"
  },
  "language_info": {
   "codemirror_mode": {
    "name": "ipython",
    "version": 3
   },
   "file_extension": ".py",
   "mimetype": "text/x-python",
   "name": "python",
   "nbconvert_exporter": "python",
   "pygments_lexer": "ipython3",
   "version": "3.7.4"
  }
 },
 "nbformat": 4,
 "nbformat_minor": 2
}
