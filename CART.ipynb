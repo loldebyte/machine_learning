{
 "cells": [
  {
   "cell_type": "markdown",
   "metadata": {},
   "source": [
    "Les arbres de décision sont des algorithmes de machine learning pouvant être utilisés pour : \n",
    "- **Un problème de régression** où la variable à prédire est quantitative (pour prédire par exemple le prix d'une maison)\n",
    "- **Un problème de classification** où la variable à prédire est qualitative (prédire le spam d'un e-mail)"
   ]
  },
  {
   "cell_type": "markdown",
   "metadata": {},
   "source": [
    "# Arbre de Decision : Classifieur"
   ]
  },
  {
   "cell_type": "markdown",
   "metadata": {},
   "source": [
    "Le modèle d'arbre classifieur est un arbre binaire où les prédictions sont faites en parcourant l'arbre de **la racine** à **la feuille**.\n",
    "\n",
    "Lors du parcours de chaque noeud :\n",
    "\n",
    "- si une **caractéristique est inférieure à un seuil**, nous allons à gauche, à droite sinon.\n",
    "- chaque **feuille est associée à une classe**, qui est la prédiction du modèle."
   ]
  },
  {
   "cell_type": "markdown",
   "metadata": {},
   "source": [
    "> On utilisera le jeu de données *iris* pour implémenter le classifieur"
   ]
  },
  {
   "cell_type": "code",
   "execution_count": 2,
   "metadata": {},
   "outputs": [],
   "source": [
    "import numpy as np\n",
    "import matplotlib.pyplot as plt\n",
    "import pandas as pd\n",
    "from sklearn.datasets import load_iris"
   ]
  },
  {
   "cell_type": "code",
   "execution_count": 3,
   "metadata": {},
   "outputs": [],
   "source": [
    "iris = load_iris()\n",
    "\n",
    "X = iris.data\n",
    "y = iris.target"
   ]
  },
  {
   "cell_type": "code",
   "execution_count": 4,
   "metadata": {},
   "outputs": [],
   "source": [
    "X = pd.DataFrame(X, columns=iris.feature_names)\n",
    "y = pd.Series(y, name=\"y\")"
   ]
  },
  {
   "cell_type": "markdown",
   "metadata": {},
   "source": [
    "L'algorithme utilisé dans un arbre de décision de type classifieur est appelée CART (abréviation de *Classification And Régression Trees*). Cette algorithme consiste de partir de la racine de trouver le meilleur split (chaque noeud est construit de manière à minimiser l'impureré de Gini de chaque enfant) successivement."
   ]
  },
  {
   "cell_type": "markdown",
   "metadata": {},
   "source": [
    "La récursivité s'arrête lorsque la profondeur maximale est atteinte, c'est à dire quand plus aucune séparation n'est possible de manière plus pur que le noeud parent. \n",
    "\n",
    "*NB : Il est possible de contrôler le critère d'arrêt qui est crucial en pratique car il permet d'éviter le surapprentissage.*"
   ]
  },
  {
   "cell_type": "markdown",
   "metadata": {},
   "source": [
    "## Métrique de split "
   ]
  },
  {
   "cell_type": "markdown",
   "metadata": {},
   "source": [
    "Pour les abrres de décisions on trouve deux types de métrique : \n",
    "- **l'indice de gini** : mesure de la purété de l'information\n",
    "- **l'entropie de Shanon** : mesure du désordre dans un système "
   ]
  },
  {
   "cell_type": "markdown",
   "metadata": {},
   "source": [
    "### L'indice de GINI"
   ]
  },
  {
   "cell_type": "markdown",
   "metadata": {},
   "source": [
    "Les arbres de décision utilisent le concept **d'impureté de Gini** pour décrire à quel point un noeud est *homogène* ou *pur*. \n",
    "\n",
    "Un noeud est dit pur $(G = 0)$ si toutes ses observations appartiennent à la même classe, tandis qu'un noeud avec de nombreuses observations de classes différentes aura un Gini proche de 1.\n",
    "\n",
    "On défini **l'impureté Gini** de $n$ échantillons répartis en $k$ classes par :"
   ]
  },
  {
   "cell_type": "markdown",
   "metadata": {},
   "source": [
    "$$\\text{G} = 1 - \\sum_{k=1}^{n}{\\left(\\frac{s_{k}}{s} \\right)^2}$$"
   ]
  },
  {
   "cell_type": "markdown",
   "metadata": {},
   "source": [
    "où : \n",
    "- $s$ correspond à l'échantillon total\n",
    "- $s_k$ correspond à la part de l'échantillon appartenant à la classe $k$"
   ]
  },
  {
   "cell_type": "markdown",
   "metadata": {},
   "source": [
    ">On peut par exemple calculer l'indice de Gini sur des données du Dataset *iris*, pour le premier noeud parent"
   ]
  },
  {
   "cell_type": "code",
   "execution_count": 5,
   "metadata": {},
   "outputs": [],
   "source": [
    "def _gini(y):\n",
    "    m = y.size\n",
    "    return 1.0 - sum((np.sum(y == c) / m) ** 2 for c in np.unique(y))"
   ]
  },
  {
   "cell_type": "code",
   "execution_count": 6,
   "metadata": {},
   "outputs": [
    {
     "data": {
      "text/plain": [
       "0.6666666666666667"
      ]
     },
     "execution_count": 6,
     "metadata": {},
     "output_type": "execute_result"
    }
   ],
   "source": [
    "_gini(y)"
   ]
  },
  {
   "cell_type": "markdown",
   "metadata": {},
   "source": [
    "###  l'Entropie de Shanon"
   ]
  },
  {
   "cell_type": "markdown",
   "metadata": {},
   "source": [
    "**l'Entropie** est une métrique qui mesure le désordre dans un systeme."
   ]
  },
  {
   "cell_type": "markdown",
   "metadata": {},
   "source": [
    "...\n",
    "\n",
    "\n",
    "..."
   ]
  },
  {
   "cell_type": "markdown",
   "metadata": {},
   "source": [
    "## Noeuds fils : variable et seuil optimal"
   ]
  },
  {
   "cell_type": "markdown",
   "metadata": {},
   "source": [
    "L'objectif de l'algorithme CART est de trouver la variable et le seuil optimal pour que l'impureté de Gini soit minimisée. On parle de la *racine* dans le cas du premier noeud de l'arbre.\n",
    "\n",
    "Pour ce faire : **il faut calculer l'indice de Gini pour toutes les divisions possibles**. \n",
    "\n",
    "- Pour le cas d'une variable expliquée **binaire**, il faut juster compter le nombre de modalité pour le split de cette variable.\n",
    "\n",
    "- Pour une valeur **continue**, il faut au préalable trier les valeurs et utiliser comme seuil tous les points médians entre deux valeurs adjacentes."
   ]
  },
  {
   "cell_type": "markdown",
   "metadata": {},
   "source": [
    "### Thresholds"
   ]
  },
  {
   "cell_type": "markdown",
   "metadata": {},
   "source": [
    "> On considère une variable du jeu de données et on récupère toutes les valeurs possibles"
   ]
  },
  {
   "cell_type": "code",
   "execution_count": 7,
   "metadata": {
    "scrolled": true
   },
   "outputs": [
    {
     "data": {
      "text/plain": [
       "array([1.4, 1.3, 1.5, 1.7, 1.6, 1.1, 1.2, 1. , 1.9, 4.7, 4.5, 4.9, 4. ,\n",
       "       4.6, 3.3, 3.9, 3.5, 4.2, 3.6, 4.4, 4.1, 4.8, 4.3, 5. , 3.8, 3.7,\n",
       "       5.1, 3. , 6. , 5.9, 5.6, 5.8, 6.6, 6.3, 6.1, 5.3, 5.5, 6.7, 6.9,\n",
       "       5.7, 6.4, 5.4, 5.2])"
      ]
     },
     "execution_count": 7,
     "metadata": {},
     "output_type": "execute_result"
    }
   ],
   "source": [
    "t = X[\"petal length (cm)\"].unique()\n",
    "t"
   ]
  },
  {
   "cell_type": "markdown",
   "metadata": {},
   "source": [
    "> Ne pas oublier de trier la liste"
   ]
  },
  {
   "cell_type": "code",
   "execution_count": 8,
   "metadata": {},
   "outputs": [],
   "source": [
    "def __make_threshold(liste):\n",
    "    if len(liste) > 1:\n",
    "        liste_sorted = sorted(liste)\n",
    "        return np.array([np.mean((liste_sorted[i], liste_sorted[i+1]))\n",
    "                         for i in range(len(liste_sorted))[:-1]])\n",
    "    else:\n",
    "        return np.array(liste)"
   ]
  },
  {
   "cell_type": "markdown",
   "metadata": {},
   "source": [
    "> On applique la moyenne pour chaque observation deux à deux (sans oublier de retirer la dernière valeur pour éviter de retourner une erreur)"
   ]
  },
  {
   "cell_type": "code",
   "execution_count": 9,
   "metadata": {
    "scrolled": true
   },
   "outputs": [
    {
     "data": {
      "text/plain": [
       "array([1.05, 1.15, 1.25, 1.35, 1.45, 1.55, 1.65, 1.8 , 2.45, 3.15, 3.4 ,\n",
       "       3.55, 3.65, 3.75, 3.85, 3.95, 4.05, 4.15, 4.25, 4.35, 4.45, 4.55,\n",
       "       4.65, 4.75, 4.85, 4.95, 5.05, 5.15, 5.25, 5.35, 5.45, 5.55, 5.65,\n",
       "       5.75, 5.85, 5.95, 6.05, 6.2 , 6.35, 6.5 , 6.65, 6.8 ])"
      ]
     },
     "execution_count": 9,
     "metadata": {},
     "output_type": "execute_result"
    }
   ],
   "source": [
    "__make_threshold(t)"
   ]
  },
  {
   "cell_type": "markdown",
   "metadata": {},
   "source": [
    "### Gini pondéré"
   ]
  },
  {
   "cell_type": "markdown",
   "metadata": {},
   "source": [
    "Après avoir trouver l'ensemble des seuils possibles pour une variable quanti (c'est aussi le cas pour une variable quali, mais l'arbre gère cela de manière ordinale) il faut maintenant selectionner le meilleur seuil qui minimise **l'indice de Gini pondéré** (entre les deux Gini de chaque embranchement). \n",
    "\n",
    "\n",
    "Dans une première étape, il faut calculer l'indice de Gini pour le **noeud fils de gauche et de droite** (il faut obligatoirement une séparation en deux modalités)."
   ]
  },
  {
   "cell_type": "markdown",
   "metadata": {},
   "source": [
    "Pour le noeud de gauche : "
   ]
  },
  {
   "cell_type": "markdown",
   "metadata": {},
   "source": [
    "- $i$ : désigne le nombre d'observations répondant vraie au seuil de la variable\n",
    "- $s_k^{i}$ : désigne le nombre d'observation répondant au seuil de la variable choisit et à la modalité $k$"
   ]
  },
  {
   "cell_type": "markdown",
   "metadata": {},
   "source": [
    "$$G^{left}_i = 1 - \\sum_{k=1}^{n}{\\left(\\frac{s_{k}^{i}}{i} \\right)^2}$$"
   ]
  },
  {
   "cell_type": "markdown",
   "metadata": {},
   "source": [
    "De manière symétrique pour le noeud de droite : "
   ]
  },
  {
   "cell_type": "markdown",
   "metadata": {},
   "source": [
    "$$G^{right}_i = 1 - \\sum_{k=1}^{n}{\\left(\\frac{s_{k}^{i-}}{i-} \\right)^2}$$"
   ]
  },
  {
   "cell_type": "markdown",
   "metadata": {},
   "source": [
    "*Note : $i-$ correspond à l'inverse du seuil, donc les modalités fausses* "
   ]
  },
  {
   "cell_type": "markdown",
   "metadata": {},
   "source": [
    "Dans une deuxième étape il faut maintenant calculer **le gini pondéré** entre les deux noeuds fils pour connaitre le gini de cet embranchement."
   ]
  },
  {
   "cell_type": "markdown",
   "metadata": {},
   "source": [
    "$$G_n =  \\frac{i}{s} \\; G^{left}_i + \\frac{i-}{s} \\; G^{right}_i $$"
   ]
  },
  {
   "cell_type": "markdown",
   "metadata": {},
   "source": [
    "> On prend une des variable du jeu de données iris et on calcule l'indice de Gini fils optimal pour chacun des seuils possibles. On peut fixer un seuil arbitraire pour commencer."
   ]
  },
  {
   "cell_type": "code",
   "execution_count": 10,
   "metadata": {},
   "outputs": [],
   "source": [
    "def gini_node_child(X, y, var, threshold):\n",
    "    classe = X[var] < threshold\n",
    "\n",
    "    m = len(y)\n",
    "    number_left = sum(classe)\n",
    "    number_right = sum(~classe)\n",
    "\n",
    "    gini_left = 1.0 - sum((sum(classe[y == i]) / number_left) ** 2\n",
    "                          for i in np.unique(y))\n",
    "    gini_right = 1.0 - sum((sum(~classe[y == i]) / number_right) ** 2\n",
    "                           for i in np.unique(y))\n",
    "\n",
    "    gini_pondere = (number_left * gini_left + number_right * gini_right) / m\n",
    "    return gini_pondere"
   ]
  },
  {
   "cell_type": "markdown",
   "metadata": {},
   "source": [
    "> Pour la variable *petal length (cm)* on applique le seuil de 4 (toujours inférieur)."
   ]
  },
  {
   "cell_type": "code",
   "execution_count": 11,
   "metadata": {},
   "outputs": [
    {
     "data": {
      "text/plain": [
       "0.41235341069564685"
      ]
     },
     "execution_count": 11,
     "metadata": {},
     "output_type": "execute_result"
    }
   ],
   "source": [
    "gini_node_child(X, y, \"petal length (cm)\", 4)"
   ]
  },
  {
   "cell_type": "markdown",
   "metadata": {},
   "source": [
    "On peut maintenant répeter cela pour tous les splits possibles de cette variable : "
   ]
  },
  {
   "cell_type": "code",
   "execution_count": 12,
   "metadata": {},
   "outputs": [],
   "source": [
    "liste_gini_pondere = []\n",
    "\n",
    "for i in __make_threshold(np.unique(X[\"petal length (cm)\"])):\n",
    "    gini_pondere = gini_node_child(X,y,'petal length (cm)', i)\n",
    "    liste_gini_pondere.append((gini_pondere, i))"
   ]
  },
  {
   "cell_type": "markdown",
   "metadata": {},
   "source": [
    "Il est possible d'afficher l'ensemble des Gini pondérés afin de retenir le meilleur seuil de séparation **pour cette variable**."
   ]
  },
  {
   "cell_type": "code",
   "execution_count": 13,
   "metadata": {},
   "outputs": [
    {
     "data": {
      "image/png": "[encoded data removed]",
      "text/plain": [
       "<Figure size 864x288 with 1 Axes>"
      ]
     },
     "metadata": {
      "needs_background": "light"
     },
     "output_type": "display_data"
    }
   ],
   "source": [
    "plt.figure(figsize=(12,4))\n",
    "plt.plot([i[0] for i in liste_gini_pondere])\n",
    "plt.xticks(ticks=range(len(liste_gini_pondere)),\n",
    "           labels=[np.round(i[1],2) for i in liste_gini_pondere], \n",
    "           rotation='vertical')\n",
    "plt.xlabel(iris.feature_names[2])\n",
    "plt.ylabel('GINI');\n",
    "plt.title('Courbe des valeurs des ginis pondéré pour chaque seuil');"
   ]
  },
  {
   "cell_type": "markdown",
   "metadata": {},
   "source": [
    "On peut donc voir que le seuil optimal de séparation est : $2.45$. L'indice de Gini associé est inférieur à 0,35. Cependant, il s'agit du meilleur seuil pour cette variable. Il faut donc itérer pour chacune des variables et chercher le meilleur split parmi l'ensemble des variables possibles."
   ]
  },
  {
   "cell_type": "markdown",
   "metadata": {},
   "source": [
    "### Échantillon"
   ]
  },
  {
   "cell_type": "markdown",
   "metadata": {},
   "source": [
    "La troisième étape consiste donc de retenir l'échantillon respectant le split du noeud et appliquer la même méthode pour chaque embranchement de manière successive. La classification consiste à retenir la classe majoritaire au sein d'un noeud."
   ]
  },
  {
   "cell_type": "code",
   "execution_count": 14,
   "metadata": {},
   "outputs": [],
   "source": [
    "def sample_node_child(X, y, var, threshold, target_name):\n",
    "\n",
    "    classe = X[var] < threshold\n",
    "\n",
    "    m = len(y)\n",
    "    number_left = sum(classe)\n",
    "    number_right = sum(~classe)\n",
    "    \n",
    "    sample_left_count = {target_name[i]: sum(classe[y == i]) for i in np.unique(y)}\n",
    "    sample_right_count = {target_name[i]: sum(~classe[y == i]) for i in np.unique(y)}\n",
    "\n",
    "    sample_left = pd.concat(classe[y == i] for i in np.unique(y))\n",
    "    sample_right = pd.concat(~classe[y == i] for i in np.unique(y))\n",
    "    \n",
    "    return (sample_left_count, sample_left), (sample_right_count, sample_right)"
   ]
  },
  {
   "cell_type": "code",
   "execution_count": 15,
   "metadata": {},
   "outputs": [],
   "source": [
    "left, right = sample_node_child(X, y, \"petal length (cm)\", 2.45, iris.target_names)"
   ]
  },
  {
   "cell_type": "markdown",
   "metadata": {},
   "source": [
    "> On peut afficher la répartition de chaque modalité pour ce split et les index des valeurs respectant cette répartition"
   ]
  },
  {
   "cell_type": "code",
   "execution_count": 16,
   "metadata": {},
   "outputs": [
    {
     "data": {
      "text/plain": [
       "{'setosa': 50, 'versicolor': 0, 'virginica': 0}"
      ]
     },
     "execution_count": 16,
     "metadata": {},
     "output_type": "execute_result"
    }
   ],
   "source": [
    "left[0]"
   ]
  },
  {
   "cell_type": "code",
   "execution_count": 17,
   "metadata": {},
   "outputs": [
    {
     "data": {
      "text/plain": [
       "0       True\n",
       "1       True\n",
       "2       True\n",
       "3       True\n",
       "4       True\n",
       "       ...  \n",
       "145    False\n",
       "146    False\n",
       "147    False\n",
       "148    False\n",
       "149    False\n",
       "Name: petal length (cm), Length: 150, dtype: bool"
      ]
     },
     "execution_count": 17,
     "metadata": {},
     "output_type": "execute_result"
    }
   ],
   "source": [
    "left[1]"
   ]
  },
  {
   "cell_type": "markdown",
   "metadata": {},
   "source": [
    "On peut créer une classe `Node` qui s'occupe de créer les noeuds fils : "
   ]
  },
  {
   "cell_type": "code",
   "execution_count": 31,
   "metadata": {},
   "outputs": [],
   "source": [
    "class Node():\n",
    "    def __init__(self, X, y, var, threshold, target_name):\n",
    "        \n",
    "        \n",
    "        classe = X[var] < threshold\n",
    "        m = len(y)\n",
    "        number_left = sum(classe)\n",
    "        number_right = sum(~classe)\n",
    "        \n",
    "        self.threshold = threshold\n",
    "        self.var = var\n",
    "        self.left, self.right = sample_node_child(\n",
    "            X, y, var, threshold, target_name)\n",
    "        \n",
    "        self.sample_left = left[1]\n",
    "        self.repartition_left = left[0]\n",
    "        \n",
    "        self.sample_right = right[1]\n",
    "        self.repartition_right = right[0]\n",
    "        \n",
    "        self.gini_pondere = gini_node_child(X,y,var, threshold)\n",
    "\n",
    "    def sample_node_child(X, y, var, threshold, target_name):\n",
    "\n",
    "        sample_left_count = {target_name[i]: sum(\n",
    "            self.classe[y == i]) for i in np.unique(y)}\n",
    "        sample_right_count = {target_name[i]: sum(\n",
    "            ~self.classe[y == i]) for i in np.unique(y)}\n",
    "\n",
    "        sample_left = pd.concat(classe[y == i] for i in np.unique(y))\n",
    "        sample_right = pd.concat(~classe[y == i] for i in np.unique(y))\n",
    "\n",
    "        return (sample_left_count, sample_left), (sample_right_count, sample_right)\n",
    "\n",
    "    def gini_node_child(X, y, var, threshold):\n",
    "\n",
    "        gini_left = 1.0 - sum((sum(classe[y == i]) / number_left) ** 2\n",
    "                              for i in np.unique(y))\n",
    "        gini_right = 1.0 - sum((sum(~classe[y == i]) / number_right) ** 2\n",
    "                               for i in np.unique(y))\n",
    "\n",
    "        gini_pondere = (number_left * gini_left +\n",
    "                        number_right * gini_right) / m\n",
    "        return gini_pondere"
   ]
  },
  {
   "cell_type": "markdown",
   "metadata": {},
   "source": [
    "On a donc créer une classe `Node` qui prend pour paramètre en entrée les X, la variable y, un seuil et une variable. Lorsqu'elle est instanciée, elle contient comme atributs : \n",
    "\n",
    ">- le gini pondéré ; \n",
    ">- le seuil ;\n",
    ">- la variable ;  \n",
    ">- l'échantillon pour le noeud fils gauche et de droite ; \n",
    ">- la répartition de gauche et la réparition de droite des fils ;\n",
    ">- la réparition du noeud parent."
   ]
  },
  {
   "cell_type": "markdown",
   "metadata": {},
   "source": [
    "La fonction suivante permet de trouver le meilleur embranchement possible (itération sur tous les seuls possibles pour chacune des variables)"
   ]
  },
  {
   "cell_type": "code",
   "execution_count": 90,
   "metadata": {},
   "outputs": [],
   "source": [
    "def find_best_node(X,y):\n",
    "    \n",
    "    \n",
    "    repartition_parent = dict(zip(target_name, y.value_counts(sort=False)))\n",
    "    best_gini = _gini(y)\n",
    "    node_parent = None\n",
    "\n",
    "    for var in X.columns:\n",
    "\n",
    "        all_treshold = __make_threshold(np.unique(X[var]))\n",
    "\n",
    "        for threshold in all_treshold:\n",
    "            node = Node(X, y, var, threshold, target_name=iris.target_names)\n",
    "\n",
    "            if node.gini_pondere < best_gini :\n",
    "                best_gini = node.gini_pondere\n",
    "                node_parent = node\n",
    "    return node"
   ]
  },
  {
   "cell_type": "code",
   "execution_count": 33,
   "metadata": {},
   "outputs": [],
   "source": [
    "best_node = find_best_node(X,y)"
   ]
  },
  {
   "cell_type": "code",
   "execution_count": 110,
   "metadata": {
    "scrolled": true
   },
   "outputs": [
    {
     "data": {
      "text/plain": [
       "'petal width (cm)'"
      ]
     },
     "execution_count": 110,
     "metadata": {},
     "output_type": "execute_result"
    }
   ],
   "source": [
    "best_node.var"
   ]
  },
  {
   "cell_type": "markdown",
   "metadata": {},
   "source": [
    "## Récursivité des noeuds "
   ]
  },
  {
   "cell_type": "markdown",
   "metadata": {},
   "source": [
    "La dernière étape de l'algorithme consiste à créer les noeuds de manière sucessive à partir des informations des noeuds fils."
   ]
  },
  {
   "cell_type": "code",
   "execution_count": 15,
   "metadata": {},
   "outputs": [],
   "source": [
    "def _best_gini(X,y, target_name=None):\n",
    "    \"\"\"\n",
    "    Permet de trouver le meilleur split à partir de l'indice de Gini pondéré\n",
    "    \"\"\"\n",
    "\n",
    "    # Calcule la pureté du noeud (l'indice de GINI parent) et \n",
    "    # retourne la classe majoritaire\n",
    "    \n",
    "    gini_node = _gini(y)\n",
    "    classe_maj = y.mode()[0]\n",
    "    \n",
    "    \n",
    "    if target_name is not None:\n",
    "        classe_maj = target_name[classe_maj]\n",
    "    else :\n",
    "        target_name = {i : i for i in np.unique(y)}\n",
    "    \n",
    "    all_split = []\n",
    "\n",
    "    # Cherche pour chaque variable le meilleur split \n",
    "\n",
    "    for var in X.columns:\n",
    "\n",
    "        # Calcule les valeurs intermédiaires de toutes les valeurs possibles de la variable\n",
    "        # Pour éviter la division par 0 si un split ne contient aucune valeur.\n",
    "\n",
    "        res = []\n",
    "        all_treshold = __make_threshold(np.unique(X[var]))\n",
    "        \n",
    "        if len(all_treshold) == 1 :\n",
    "            return None\n",
    "        \n",
    "        for threshold in all_treshold:\n",
    "            \n",
    "            # Récupère les données pour le split selon le threshold\n",
    "            classe = X[var] < threshold\n",
    "\n",
    "            # Effectifs pour chaque classe et le total\n",
    "            m = len(y)\n",
    "            number_left = sum(classe)\n",
    "            number_right = sum(~classe)\n",
    "            \n",
    "            \n",
    "            # Indice de gini pour la branche de gauche et de droite\n",
    "            gini_left = 1.0 - sum((sum(classe[y == i]) / number_left) ** 2 \n",
    "                                  for i in np.unique(y))\n",
    "            gini_right = 1.0 - sum((sum(~classe[y == i]) / number_right) ** 2 \n",
    "                                   for i in np.unique(y))\n",
    "\n",
    "            # Répartition de l'échantillon pour le split\n",
    "            sample_left_count = {target_name[i] : sum(classe[y == i]) for i in np.unique(y)}\n",
    "            sample_right_count = {target_name[i] : sum(~classe[y == i]) for i in np.unique(y)}\n",
    "            \n",
    "            sample_left = {target_name[i] : classe[y == i] for i in np.unique(y)}\n",
    "            sample_right = {target_name[i] : ~classe[y == i] for i in np.unique(y)}\n",
    "\n",
    "            # Gini pondéré entre les deux splits\n",
    "            gini_pondere = (number_left * gini_left + number_right * gini_right) / m\n",
    "\n",
    "            # Ajoute l'ensemble des résultats dans une liste\n",
    "            res.append((gini_pondere, threshold, sample_left_count, \n",
    "                        sample_right_count, sample_left, sample_right))\n",
    "\n",
    "        # Créer un DataFrame de l'ensemble des résultats pour chaque split\n",
    "        best_gini = pd.DataFrame(res, columns=[\"gini\",\"value\",'sample_left', 'sample_right','data_left','data_right'])\n",
    "\n",
    "        # Selectionne la ligne de l'indice de gini pondéré le plus faible et son seuil\n",
    "        argmin = best_gini.gini.idxmin()\n",
    "        threshold = best_gini.loc[argmin].value\n",
    "\n",
    "        # Ajoute le meilleur split (indice de gini pondéré) pour chaque variable\n",
    "        all_split.append((best_gini.gini.min(), threshold, var, \n",
    "                          best_gini.sample_left[argmin], best_gini.sample_right[argmin],\n",
    "                        gini_node, classe_maj))\n",
    "\n",
    "    # Transforme sous forme de DataFrame et trie par ordre ascendant\n",
    "    node = pd.DataFrame(all_split, columns=[\"Gini pondéré\", \"threshold (<=) \", \n",
    "                                'feature', 'sample_left', \n",
    "                                \"sample_right\", 'gini_node',\"classe\"]\n",
    "                               ).sort_values(by=[\"Gini pondéré\"], ascending=True).reset_index(drop=True)\n",
    "    \n",
    "    print(node.loc[0])\n",
    "    \n",
    "    data_sample_left = pd.concat(i for i in best_gini.data_left[argmin].values())\n",
    "    data_sample_right = pd.concat(i for i in best_gini.data_right[argmin].values())\n",
    "    \n",
    "    tuple_left = (X[data_sample_left], y[data_sample_left])\n",
    "    tuple_right = (X[data_sample_right], y[data_sample_right])\n",
    "    \n",
    "    return _best_gini(tuple_left[0], tuple_left[1], target_name=target_name), _best_gini(tuple_right[0], tuple_right[1], target_name=target_name)\n",
    "    "
   ]
  },
  {
   "cell_type": "code",
   "execution_count": 98,
   "metadata": {},
   "outputs": [
    {
     "name": "stdout",
     "output_type": "stream",
     "text": [
      "Gini pondéré                                               0.333333\n",
      "threshold (<=)                                                 2.45\n",
      "feature                                           petal length (cm)\n",
      "sample_left         {'setosa': 50, 'versicolor': 0, 'virginica': 0}\n",
      "sample_right       {'setosa': 0, 'versicolor': 50, 'virginica': 50}\n",
      "gini_node                                                  0.666667\n",
      "classe                                                       setosa\n",
      "Name: 0, dtype: object\n",
      "gini : 0.0\n",
      "classe : setosa\n",
      "Gini pondéré                                 0.110306\n",
      "threshold (<=)                                   1.75\n",
      "feature                              petal width (cm)\n",
      "sample_left        {'versicolor': 49, 'virginica': 5}\n",
      "sample_right       {'versicolor': 1, 'virginica': 45}\n",
      "gini_node                                         0.5\n",
      "classe                                     versicolor\n",
      "Name: 0, dtype: object\n",
      "Gini pondéré                                0.0856481\n",
      "threshold (<=)                                   4.95\n",
      "feature                             petal length (cm)\n",
      "sample_left        {'versicolor': 47, 'virginica': 1}\n",
      "sample_right        {'versicolor': 2, 'virginica': 4}\n",
      "gini_node                                    0.168038\n",
      "classe                                     versicolor\n",
      "Name: 0, dtype: object\n",
      "gini : 0.0\n",
      "classe : versicolor\n",
      "Gini pondéré                                 0.175641\n",
      "threshold (<=)                                   4.95\n",
      "feature                             petal length (cm)\n",
      "sample_left        {'versicolor': 19, 'virginica': 1}\n",
      "sample_right        {'versicolor': 2, 'virginica': 4}\n",
      "gini_node                                    0.310651\n",
      "classe                                     versicolor\n",
      "Name: 0, dtype: object\n",
      "Gini pondéré                                0.0666667\n",
      "threshold (<=)                                   4.95\n",
      "feature                             petal length (cm)\n",
      "sample_left        {'versicolor': 19, 'virginica': 0}\n",
      "sample_right        {'versicolor': 1, 'virginica': 4}\n",
      "gini_node                                    0.277778\n",
      "classe                                     versicolor\n",
      "Name: 0, dtype: object\n",
      "Gini pondéré                                0.0289855\n",
      "threshold (<=)                                   4.85\n",
      "feature                             petal length (cm)\n",
      "sample_left         {'versicolor': 1, 'virginica': 2}\n",
      "sample_right       {'versicolor': 0, 'virginica': 43}\n",
      "gini_node                                   0.0425331\n",
      "classe                                      virginica\n",
      "Name: 0, dtype: object\n",
      "gini : 0.0\n",
      "classe : virginica\n"
     ]
    }
   ],
   "source": [
    "sample_left, sample_right = _best_gini(X,y, iris.target_names)"
   ]
  },
  {
   "cell_type": "markdown",
   "metadata": {},
   "source": [
    "On peut récuperer les informations du meilleurs split pour la meilleure variable : "
   ]
  },
  {
   "cell_type": "code",
   "execution_count": 87,
   "metadata": {},
   "outputs": [],
   "source": [
    "class DecisionTreeClassif():\n",
    "    def __init__(self, max_depth=None, target_name=None):\n",
    "        self.max_depth = max_depth\n",
    "        self.target_name = target_name\n",
    "    \n",
    "    def _gini(self, y):\n",
    "        m = y.size\n",
    "        return 1.0 - sum((np.sum(y == c) / m) ** 2 \n",
    "                         for c in np.unique(y))\n",
    "    \n",
    "    def __make_threshold(self, liste):\n",
    "        liste_sorted = sorted(liste)\n",
    "        return np.array([np.mean((liste_sorted[i], liste_sorted[i+1])) \n",
    "                for i in range(len(liste_sorted))[:-1]])\n",
    "\n",
    "    def fit(self,X,y):\n",
    "        self.all_classes = np.unique(y)\n",
    "        self.tree = self._best_gini(X,y, target_name=self.target_name)\n",
    "        return self.tree\n",
    "        \n",
    "    def _best_gini(self, X,y, target_name):\n",
    "        \"\"\"\n",
    "        Permet de trouver le meilleur split à partir de l'indice de Gini pondéré\n",
    "        \"\"\"\n",
    "\n",
    "        # Calcule la pureté du noeud (l'indice de GINI parent) et \n",
    "        # retourne la classe majoritaire\n",
    "        gini_node = self._gini(y)\n",
    "        classe_maj = y.mode()[0]\n",
    "\n",
    "        if target_name is not None:\n",
    "            classe_maj = target_name[classe_maj]\n",
    "\n",
    "        all_split = []\n",
    "\n",
    "        # Cherche pour chaque variable le meilleur split \n",
    "\n",
    "        for var in X.columns:\n",
    "\n",
    "            # Calcule les valeurs intermédiaires de toutes les valeurs possibles de la variable\n",
    "            # Pour éviter la division par 0 si un split ne contient aucune valeur.\n",
    "\n",
    "            res = []\n",
    "            all_treshold = self.__make_threshold(np.unique(X[var]))\n",
    "\n",
    "            for threshold in all_treshold:\n",
    "\n",
    "                # Récupère les données pour le split selon le threshold\n",
    "                classe = X[var] < threshold\n",
    "\n",
    "                # Effectifs pour chaque classe et le total\n",
    "                m = len(y)\n",
    "                number_left = sum(classe)\n",
    "                number_right = sum(~classe)\n",
    "\n",
    "                # Indice de gini pour la branche de gauche et de droite\n",
    "                gini_left = 1.0 - sum((sum(classe[y == i]) / number_left) ** 2 \n",
    "                                      for i in self.all_classes)\n",
    "                gini_right = 1.0 - sum((sum(~classe[y == i]) / number_right) ** 2 \n",
    "                                       for i in self.all_classes)\n",
    "\n",
    "                # Répartition de l'échantillon pour le split\n",
    "                sample_left = {target_name[i] : np.sum(classe[y == i]) for i in self.all_classes}\n",
    "                sample_right = {target_name[i] : np.sum(~classe[y == i]) for i in self.all_classes}\n",
    "\n",
    "                # Gini pondéré entre les deux splits\n",
    "                gini_pondere = (number_left * gini_left + number_right * gini_right) / m\n",
    "\n",
    "                # Ajoute l'ensemble des résultats dans une liste\n",
    "                res.append((gini_pondere, threshold, sample_left, sample_right))\n",
    "\n",
    "            # Créer un DataFrame de l'ensemble des résultats pour chaque split\n",
    "            best_gini = pd.DataFrame(res, columns=[\"gini\",\"value\",'sample_left', 'sample_right'])\n",
    "\n",
    "            # Selectionne la ligne de l'indice de gini pondéré le plus faible et son seuil\n",
    "            argmin = best_gini.gini.idxmin()\n",
    "            threshold = best_gini.loc[argmin].value\n",
    "\n",
    "            # Ajoute le meilleur split (indice de gini pondéré) pour chaque variable\n",
    "            all_split.append((best_gini.gini.min(), threshold, var, \n",
    "                              best_gini.sample_left[argmin], best_gini.sample_right[argmin],\n",
    "                            gini_node, classe_maj))\n",
    "\n",
    "        # Transforme sous forme de DataFrame et trie par ordre ascendant\n",
    "        select_split = pd.DataFrame(all_split, columns=[\"Gini pondéré\", \"threshold (<=) \", \n",
    "                                    'feature', 'sample_left', \n",
    "                                    \"sample_right\", 'gini_node',\"classe\"]\n",
    "                                   ).sort_values(by=[\"Gini pondéré\"], ascending=True).reset_index(drop=True)\n",
    "        return select_split.loc[0]"
   ]
  },
  {
   "cell_type": "code",
   "execution_count": 72,
   "metadata": {},
   "outputs": [],
   "source": [
    "def tree_growth():\n",
    "    pass"
   ]
  },
  {
   "cell_type": "code",
   "execution_count": 88,
   "metadata": {
    "scrolled": true
   },
   "outputs": [
    {
     "data": {
      "text/plain": [
       "Gini pondéré                                               0.333333\n",
       "threshold (<=)                                                 2.45\n",
       "feature                                           petal length (cm)\n",
       "sample_left         {'setosa': 50, 'versicolor': 0, 'virginica': 0}\n",
       "sample_right       {'setosa': 0, 'versicolor': 50, 'virginica': 50}\n",
       "gini_node                                                  0.666667\n",
       "classe                                                       setosa\n",
       "Name: 0, dtype: object"
      ]
     },
     "execution_count": 88,
     "metadata": {},
     "output_type": "execute_result"
    }
   ],
   "source": [
    "DecisionTreeClassif(target_name=iris.target_names).fit(X,y)"
   ]
  },
  {
   "cell_type": "markdown",
   "metadata": {},
   "source": [
    "## Avec sklearn"
   ]
  },
  {
   "cell_type": "code",
   "execution_count": 106,
   "metadata": {},
   "outputs": [],
   "source": [
    "from sklearn.tree import DecisionTreeClassifier\n",
    "from sklearn.model_selection import train_test_split\n",
    "from sklearn.tree import plot_tree"
   ]
  },
  {
   "cell_type": "code",
   "execution_count": 84,
   "metadata": {},
   "outputs": [
    {
     "data": {
      "text/plain": [
       "1.0"
      ]
     },
     "execution_count": 84,
     "metadata": {},
     "output_type": "execute_result"
    }
   ],
   "source": [
    "clf = DecisionTreeClassifier(max_depth=None)\n",
    "\n",
    "X_train, X_test, y_train, y_test = train_test_split(\n",
    "    X, y, test_size=0.2, random_state=0)\n",
    "\n",
    "clf.fit(X,y)\n",
    "clf.score(X,y)"
   ]
  },
  {
   "cell_type": "markdown",
   "metadata": {},
   "source": [
    "En haut de l'arbre on trouve la racine : "
   ]
  },
  {
   "cell_type": "code",
   "execution_count": 107,
   "metadata": {},
   "outputs": [
    {
     "data": {
      "text/plain": [
       "<function sklearn.tree._export.plot_tree(decision_tree, max_depth=None, feature_names=None, class_names=None, label='all', filled=False, impurity=True, node_ids=False, proportion=False, rotate=False, rounded=False, precision=3, ax=None, fontsize=None)>"
      ]
     },
     "execution_count": 107,
     "metadata": {},
     "output_type": "execute_result"
    }
   ],
   "source": [
    "plot_tree"
   ]
  },
  {
   "cell_type": "code",
   "execution_count": 85,
   "metadata": {},
   "outputs": [
    {
     "data": {
      "image/png": "[encoded data removed]",
      "text/plain": [
       "<Figure size 864x864 with 1 Axes>"
      ]
     },
     "metadata": {
      "needs_background": "light"
     },
     "output_type": "display_data"
    }
   ],
   "source": [
    "plt.figure(figsize=(12,12))\n",
    "plot_tree(clf, feature_names=iris.feature_names, \n",
    "          class_names=iris.target_names,\n",
    "         filled=True);"
   ]
  },
  {
   "cell_type": "markdown",
   "metadata": {},
   "source": [
    "- **seuil** : on peut lire le nom de la variable discriminante et sa valeur (pour notre cas, il s'agit de la longueur de la pétale qui est inférieur à 2,35 cm). \n",
    "- **gini** : le coefficient de GINI du noeud parent\n",
    "- **samples** : fait référence à la taille de l'échantillon\n",
    "- **value** : fait référence à la taille de l'échantilllon pour chacune des classes.\n",
    "- **class** : fait référence à la classe majoritaire lors de cette embranchement."
   ]
  },
  {
   "cell_type": "markdown",
   "metadata": {},
   "source": [
    "## Référence "
   ]
  },
  {
   "cell_type": "markdown",
   "metadata": {},
   "source": [
    "[TowardsDataScience, Decision Tree from scratch in python](https://towardsdatascience.com/decision-tree-from-scratch-in-python-46e99dfea775)"
   ]
  }
 ],
 "metadata": {
  "kernelspec": {
   "display_name": "Python 3",
   "language": "python",
   "name": "python3"
  },
  "language_info": {
   "codemirror_mode": {
    "name": "ipython",
    "version": 3
   },
   "file_extension": ".py",
   "mimetype": "text/x-python",
   "name": "python",
   "nbconvert_exporter": "python",
   "pygments_lexer": "ipython3",
   "version": "3.7.4"
  },
  "toc": {
   "base_numbering": 1,
   "nav_menu": {},
   "number_sections": true,
   "sideBar": true,
   "skip_h1_title": false,
   "title_cell": "Table of Contents",
   "title_sidebar": "Contents",
   "toc_cell": false,
   "toc_position": {},
   "toc_section_display": true,
   "toc_window_display": true
  }
 },
 "nbformat": 4,
 "nbformat_minor": 2
}
